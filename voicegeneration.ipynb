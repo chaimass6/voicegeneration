import tensorflow as tf

# For TensorFlow 2.x compatibility
if tf.__version__.startswith('2'):
  tf = tf.compat.v1
  # Disable eager execution
  tf.disable_eager_execution()

tf.reset_default_graph()
saver = tf.train.import_meta_graph('infer.meta')
graph = tf.get_default_graph()

# Use tf.compat.v1.Session() for TensorFlow 2.x compatibility
with tf.compat.v1.Session() as sess:
  saver.restore(sess, 'model.ckpt')

# CHANGE THIS to use a different dataset
dataset = 'digits' # one of 'digits', 'speech', 'birds', 'drums', 'piano'

# Confirm GPU is running
from tensorflow.python.client import device_lib
def get_available_gpus():
    local_device_protos = device_lib.list_local_devices()
    return [x.name for x in local_device_protos if x.device_type == 'GPU']
if len(get_available_gpus()) == 0:
  print('WARNING: Not running on a GPU! See above for faster generation')

# Download model
if dataset == 'digits':
  !wget https://s3.amazonaws.com/wavegan-v1/models/sc09.ckpt.index -O model.ckpt.index
  !wget https://s3.amazonaws.com/wavegan-v1/models/sc09.ckpt.data-00000-of-00001 -O model.ckpt.data-00000-of-00001
  !wget https://s3.amazonaws.com/wavegan-v1/models/sc09_infer.meta -O infer.meta
elif dataset == 'speech':
  !wget https://s3.amazonaws.com/wavegan-v1/models/timit.ckpt.index -O model.ckpt.index
  !wget https://s3.amazonaws.com/wavegan-v1/models/timit.ckpt.data-00000-of-00001 -O model.ckpt.data-00000-of-00001
  !wget https://s3.amazonaws.com/wavegan-v1/models/timit_infer.meta -O infer.meta
elif dataset == 'birds':
  !wget https://s3.amazonaws.com/wavegan-v1/models/birds.ckpt.index -O model.ckpt.index
  !wget https://s3.amazonaws.com/wavegan-v1/models/birds.ckpt.data-00000-of-00001 -O model.ckpt.data-00000-of-00001
  !wget https://s3.amazonaws.com/wavegan-v1/models/birds_infer.meta -O infer.meta
elif dataset == 'drums':
  !wget https://s3.amazonaws.com/wavegan-v1/models/drums.ckpt.index -O model.ckpt.index
  !wget https://s3.amazonaws.com/wavegan-v1/models/drums.ckpt.data-00000-of-00001 -O model.ckpt.data-00000-of-00001
  !wget https://s3.amazonaws.com/wavegan-v1/models/drums_infer.meta -O infer.meta
elif dataset == 'piano':
  !wget https://s3.amazonaws.com/wavegan-v1/models/piano.ckpt.index -O model.ckpt.index
  !wget https://s3.amazonaws.com/wavegan-v1/models/piano.ckpt.data-00000-of-00001 -O model.ckpt.data-00000-of-00001
  !wget https://s3.amazonaws.com/wavegan-v1/models/piano_infer.meta -O infer.meta
else:
  raise ValueError(f"Invalid dataset: {dataset}. Choose from 'digits', 'speech', 'birds', 'drums', or 'piano'.")

# Load the model
import tensorflow as tf

# For TensorFlow 2.x compatibility
if tf.__version__.startswith('2'):
  tf = tf.compat.v1

tf.reset_default_graph()
saver = tf.train.import_meta_graph('infer.meta')
graph = tf.get_default_graph()

# Use tf.compat.v1.Session() for TensorFlow 2.x compatibility
with tf.compat.v1.Session() as sess:
  saver.restore(sess, 'model.ckpt')
  # CHANGE THESE to change number of examples generated/displayed
  ngenerate = 64
  ndisplay = 4

  import numpy as np
  import PIL.Image
  from IPython.display import display, Audio
  import time as time

  # Sample latent vectors
  _z = (np.random.rand(ngenerate, 100) * 2.) - 1.

  # Generate
  z = graph.get_tensor_by_name('z:0')
  G_z = graph.get_tensor_by_name('G_z:0')[:, :, 0]
  G_z_spec = graph.get_tensor_by_name('G_z_spec:0')

  start = time.time()
  _G_z, _G_z_spec = sess.run([G_z, G_z_spec], {z: _z}) #This line was moved inside the with statement
  print('Finished! (Took {} seconds)'.format(time.time() - start))

  for i in range(ndisplay):
    print('-' * 80)
    print('Example {}'.format(i))
    display(PIL.Image.fromarray(_G_z_spec[i]))
    display(Audio(_G_z[i], rate=16000))
    print('-' * 80)
    print('Example {}'.format(i))
    display(PIL.Image.fromarray(_G_z_spec[i]))
    display(Audio(_G_z[i], rate=16000))
    display(Audio(_G_z[i], rate=16000))
